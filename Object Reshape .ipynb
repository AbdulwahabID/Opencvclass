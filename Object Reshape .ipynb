{
 "cells": [
  {
   "cell_type": "code",
   "execution_count": 2,
   "id": "8fb1b55b-494b-4c35-90db-e40dcce3e238",
   "metadata": {},
   "outputs": [],
   "source": [
    "import cv2 as cv"
   ]
  },
  {
   "cell_type": "code",
   "execution_count": 4,
   "id": "698c9caa-a07d-421d-96d9-d9d9e528acaf",
   "metadata": {},
   "outputs": [],
   "source": [
    "img = cv.imread(\"image 2.jpg\")\n",
    "cv.imshow(\"my image\", img)\n",
    "cv.waitKey(0)\n",
    "\n",
    "cv.destroyAllWindows()"
   ]
  },
  {
   "cell_type": "code",
   "execution_count": 2,
   "id": "cc32dd24-c09a-46e3-a178-02f1ada37488",
   "metadata": {},
   "outputs": [
    {
     "data": {
      "text/plain": [
       "'C:\\\\Users\\\\USER'"
      ]
     },
     "execution_count": 2,
     "metadata": {},
     "output_type": "execute_result"
    }
   ],
   "source": [
    "pwd"
   ]
  },
  {
   "cell_type": "code",
   "execution_count": 3,
   "id": "0966e43b-6f25-4464-a613-a42daa84368b",
   "metadata": {},
   "outputs": [
    {
     "name": "stdout",
     "output_type": "stream",
     "text": [
      " Volume in drive C has no label.\n",
      " Volume Serial Number is 100E-F832\n",
      "\n",
      " Directory of C:\\Users\\USER\n",
      "\n",
      "11/08/2023  08:57    <DIR>          .\n",
      "11/08/2023  08:57    <DIR>          ..\n",
      "09/08/2023  13:58                30 .bash_history\n",
      "11/08/2023  08:55    <DIR>          .ipynb_checkpoints\n",
      "09/08/2023  16:12    <DIR>          .ipython\n",
      "09/08/2023  16:20    <DIR>          .jupyter\n",
      "09/08/2023  16:21    <DIR>          .matplotlib\n",
      "09/08/2023  13:45    <DIR>          .vscode\n",
      "09/08/2023  20:26    <DIR>          3D Objects\n",
      "09/08/2023  20:26    <DIR>          Contacts\n",
      "10/08/2023  12:10    <DIR>          Desktop\n",
      "09/08/2023  21:32    <DIR>          Documents\n",
      "10/08/2023  11:46    <DIR>          Downloads\n",
      "09/08/2023  20:26    <DIR>          Favorites\n",
      "11/08/2023  08:54           162,451 image 2.jpg\n",
      "11/08/2023  08:54           159,202 image 3.jpg\n",
      "09/08/2023  20:26    <DIR>          Links\n",
      "09/08/2023  20:26    <DIR>          Music\n",
      "11/08/2023  08:54           167,078 my pix.jpg\n",
      "09/08/2023  20:30    <DIR>          OneDrive\n",
      "09/08/2023  20:30    <DIR>          Pictures\n",
      "11/08/2023  08:54           153,916 rice hsi.PNG\n",
      "09/08/2023  20:26    <DIR>          Saved Games\n",
      "10/08/2023  13:36    <DIR>          scf\n",
      "09/08/2023  20:28    <DIR>          Searches\n",
      "11/08/2023  08:33               618 Untitled.ipynb\n",
      "11/08/2023  08:57               833 Untitled1.ipynb\n",
      "09/08/2023  20:26    <DIR>          Videos\n",
      "               7 File(s)        644,128 bytes\n",
      "              21 Dir(s)  455,131,164,672 bytes free\n"
     ]
    }
   ],
   "source": [
    "ls"
   ]
  },
  {
   "cell_type": "code",
   "execution_count": 9,
   "id": "e9bce073-2089-4f9f-acf8-5f3f71af588c",
   "metadata": {},
   "outputs": [],
   "source": [
    "#dir = \"C:\\\\Users\\\\USER\\\\Desktop\\\\Image Processing\\\\HSI on Rice\\\\image 3.jpg\"\n",
    "img = cv.imread(\"C:\\\\Users\\\\USER\\\\Desktop\\\\Image Processing\\\\HSI on Rice\\\\image 3.jpg\")\n",
    "cv.imshow(\"my image\", img)\n",
    "cv.waitKey(0)\n",
    "\n",
    "cv.destroyAllWindows()"
   ]
  },
  {
   "cell_type": "code",
   "execution_count": 12,
   "id": "06f1cf8b-2fe3-4514-9c20-6775747a8db4",
   "metadata": {},
   "outputs": [],
   "source": [
    "#dir = \"C:\\\\Users\\\\USER\\\\Desktop\\\\Image Processing\\\\HSI on Rice\\\\image 3.jpg\"\n",
    "img = cv.imread(\"C:\\\\Users\\\\USER\\\\Desktop\\\\Image Processing\\\\Data\\\\chair.jpg\")\n",
    "cv.imshow(\"my image\", img)\n",
    "\n",
    "\n",
    "cv.waitKey(0)\n",
    "\n",
    "cv.destroyAllWindows\n"
   ]
  },
  {
   "cell_type": "markdown",
   "id": "cf739ea7-79ba-439a-a31c-6325e5a6a82c",
   "metadata": {},
   "source": [
    "#dir = \"C:\\\\Users\\\\USER\\\\Desktop\\\\Image Processing\\\\HSI on Rice\\\\image 3.jpg\"\n",
    "img = cv.VideoCapture(0)\n",
    "\n",
    "cv.waitKey(0)\n",
    "\n",
    "cv.destroyAllWindows()"
   ]
  },
  {
   "cell_type": "code",
   "execution_count": 3,
   "id": "f000e3a3-1059-4899-9cc9-a4e70ba8b4e9",
   "metadata": {},
   "outputs": [
    {
     "name": "stdout",
     "output_type": "stream",
     "text": [
      "image 3 (3088, 4160, 3)\n",
      "data type of image 3 uint8\n"
     ]
    }
   ],
   "source": [
    "#dir = \"C:\\\\Users\\\\USER\\\\Desktop\\\\Image Processing\\\\HSI on Rice\\\\image 3.jpg\"\n",
    "img = cv.imread(\"C:\\\\Users\\\\USER\\\\Desktop\\\\Image Processing\\\\Data\\\\chair.jpg\")\n",
    "cv.imshow(\"my image\", img)\n",
    "\n",
    "\n",
    "print(\"image 3\", img.shape)\n",
    "print(\"data type of image 3\", img.dtype)\n",
    "\n",
    "\n",
    "\n",
    "cv.waitKey(0)\n",
    "cv.destroyAllWindows()"
   ]
  },
  {
   "cell_type": "code",
   "execution_count": 4,
   "id": "c478f4c7-9232-4d9f-9078-852a9a9d8665",
   "metadata": {},
   "outputs": [
    {
     "name": "stdout",
     "output_type": "stream",
     "text": [
      "wellplate-02 (1982, 1351, 3)\n",
      "data type of wellplate-02 uint8\n"
     ]
    }
   ],
   "source": [
    "img = cv.imread(\"C:\\\\Users\\\\USER\\\\Desktop\\\\Image Processing\\\\Data\\\\wellplate-02.tif\")\n",
    "cv.imshow(\"my image\", img)\n",
    "print(\"data type of image 3\", img.dtype)\n",
    "\n",
    "\n",
    "\n",
    "print(\"wellplate-02\", img.shape)\n",
    "print(\"data type of wellplate-02\", img.dtype)\n",
    "\n",
    "\n",
    "\n",
    "cv.waitKey(0)\n",
    "cv.destroyAllWindows()"
   ]
  },
  {
   "cell_type": "code",
   "execution_count": 8,
   "id": "e02c8335-a5c9-44fa-81a3-bd73f36406dd",
   "metadata": {},
   "outputs": [
    {
     "name": "stdout",
     "output_type": "stream",
     "text": [
      "wellplate-02 (1982, 1351, 3)\n",
      "data type of image 3 uint8\n",
      "resized image shape (138, 128, 3)\n",
      "data type of new image uint8\n",
      "data type of new image uint8\n"
     ]
    }
   ],
   "source": [
    "img = cv.imread(\"C:\\\\Users\\\\USER\\\\Desktop\\\\Image Processing\\\\Data\\\\wellplate-02.tif\")\n",
    "cv.imshow(\"my image\", img)\n",
    "print(\"wellplate-02\", img.shape)\n",
    "print(\"data type of image 3\", img.dtype)\n",
    "\n",
    "\n",
    "\n",
    "width = 128\n",
    "height = 138\n",
    "\n",
    "resized_img = cv.resize(img, (width, height))\n",
    "cv.imshow('new image', resized_img)\n",
    "\n",
    "print('resized image shape', resized_img.shape)\n",
    "print(\"data type of new image\", resized_img.dtype)\n",
    "\n",
    "#width, hight = 128, 138\n",
    "\n",
    "print(\"data type of new image\", resized_img.dtype)\n",
    "\n",
    "\n",
    "cv.waitKey(0)\n",
    "cv.destroyAllWindows()"
   ]
  },
  {
   "cell_type": "code",
   "execution_count": 9,
   "id": "707d7783-f0db-48e8-b9af-51a9615dcee7",
   "metadata": {},
   "outputs": [
    {
     "name": "stdout",
     "output_type": "stream",
     "text": [
      "wellplate-02 (1982, 1351, 3)\n",
      "data type of image 3 uint8\n",
      "resized image shape (588, 480, 3)\n",
      "data type of new image uint8\n"
     ]
    }
   ],
   "source": [
    "img = cv.imread(\"C:\\\\Users\\\\USER\\\\Desktop\\\\Image Processing\\\\Data\\\\wellplate-02.tif\")\n",
    "cv.imshow(\"my image\", img)\n",
    "print(\"wellplate-02\", img.shape)\n",
    "print(\"data type of image 3\", img.dtype)\n",
    "\n",
    "\n",
    "\n",
    "width = 480\n",
    "height = 588\n",
    "\n",
    "resized_img = cv.resize(img, (width, height))\n",
    "cv.imshow('new image', resized_img)\n",
    "\n",
    "print('resized image shape', resized_img.shape)\n",
    "print(\"data type of new image\", resized_img.dtype)\n",
    "\n",
    "\n",
    "\n",
    "cv.waitKey(0)\n",
    "cv.destroyAllWindows()"
   ]
  },
  {
   "cell_type": "code",
   "execution_count": null,
   "id": "5096086d-04b2-4a0a-863c-a277a6a793ce",
   "metadata": {},
   "outputs": [],
   "source": [
    "img = cv.imread(\"C:\\\\Users\\\\USER\\\\Desktop\\\\Image Processing\\\\Data\\\\wellplate-02.tif\")\n",
    "cv.imshow(\"my image\", img)\n",
    "print(\"wellplate-02\", img.shape)\n",
    "print(\"data type of image 3\", img.dtype)\n",
    "\n",
    "\n",
    "\n",
    "width = 128\n",
    "height = 138\n",
    "\n",
    "resized_img = cv.resize(img, (width, height))\n",
    "cv.imshow('new image', resized_img)\n",
    "\n",
    "print('resized image shape', resized_img.shape)\n",
    "print(\"data type of new image\", resized_img.dtype)\n",
    "\n",
    "#width, hight = 128, 138\n",
    "\n",
    "print(\"data type of new image\", resized_img.dtype)\n",
    "\n",
    "\n",
    "cv.waitKey(0)\n",
    "cv.destroyAllWindows()"
   ]
  },
  {
   "cell_type": "code",
   "execution_count": null,
   "id": "1c67cac5-19e0-44e0-8dfb-6ac8ec659bc8",
   "metadata": {},
   "outputs": [],
   "source": [
    "img = cv.imread(\"C:\\\\Users\\\\USER\\\\Desktop\\\\Image Processing\\\\Data\\\\wellplate-02.tif\")\n",
    "cv.imshow(\"my image\", img)\n",
    "print(\"wellplate-02\", img.shape)\n",
    "print(\"data type of image 3\", img.dtype)\n",
    "\n",
    "\n",
    "\n",
    "width = 128\n",
    "height = 138\n",
    "\n",
    "resized_img = cv.resize(img, (width, height))\n",
    "cv.imshow('new image', resized_img)\n",
    "\n",
    "print('resized image shape', resized_img.shape)\n",
    "print(\"data type of new image\", resized_img.dtype)\n",
    "\n",
    "#width, hight = 128, 138\n",
    "\n",
    "print(\"data type of new image\", resized_img.dtype)\n",
    "\n",
    "\n",
    "cv.waitKey(0)\n",
    "cv.destroyAllWindows()"
   ]
  }
 ],
 "metadata": {
  "kernelspec": {
   "display_name": "Python 3 (ipykernel)",
   "language": "python",
   "name": "python3"
  },
  "language_info": {
   "codemirror_mode": {
    "name": "ipython",
    "version": 3
   },
   "file_extension": ".py",
   "mimetype": "text/x-python",
   "name": "python",
   "nbconvert_exporter": "python",
   "pygments_lexer": "ipython3",
   "version": "3.10.10"
  }
 },
 "nbformat": 4,
 "nbformat_minor": 5
}
