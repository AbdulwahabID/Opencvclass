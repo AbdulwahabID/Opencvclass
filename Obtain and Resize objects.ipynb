{
 "cells": [
  {
   "cell_type": "code",
   "execution_count": 10,
   "id": "ffd1b7c0-b2c8-4ed3-86c4-f899d1549710",
   "metadata": {},
   "outputs": [],
   "source": [
    "import cv2 as cv"
   ]
  },
  {
   "cell_type": "markdown",
   "id": "3557b4ab-4800-4744-b836-cac8454e7618",
   "metadata": {},
   "source": [
    "# To Obtain an Object from it directory"
   ]
  },
  {
   "cell_type": "code",
   "execution_count": 13,
   "id": "8a14b825-a951-4b54-8f57-b369a260cf37",
   "metadata": {},
   "outputs": [],
   "source": [
    "\n",
    "prac = cv.imread(\"rice hsi.png\")\n",
    "cv.imshow(\"rice hsi\",prac)\n",
    "cv.waitKey(0)\n",
    "\n",
    "cv.destroyAllWindows()"
   ]
  },
  {
   "cell_type": "code",
   "execution_count": 14,
   "id": "3ef60479-05be-4378-ad5c-662273576608",
   "metadata": {},
   "outputs": [
    {
     "name": "stdout",
     "output_type": "stream",
     "text": [
      "data type of rice hsi uint8\n",
      "rice hsi (292, 307, 3)\n",
      "data type of wellplate-02 uint8\n"
     ]
    }
   ],
   "source": [
    "## How to check the Size and shape of Objects\n",
    "\n",
    "cv.imshow(\"rice hsi\", prac)\n",
    "print(\"data type of rice hsi\", prac.dtype)\n",
    "\n",
    "\n",
    "\n",
    "print(\"rice hsi\", prac.shape)\n",
    "print(\"data type of wellplate-02\", prac.dtype)\n",
    "\n",
    "\n",
    "\n",
    "cv.waitKey(0)\n",
    "cv.destroyAllWindows()"
   ]
  },
  {
   "cell_type": "markdown",
   "id": "c838eeeb-1b9c-4bce-8a3f-bee548b54d9a",
   "metadata": {},
   "source": [
    "# to Resize an Objects"
   ]
  },
  {
   "cell_type": "code",
   "execution_count": 16,
   "id": "46c66548-724e-4b72-8bd4-8a5cb43c7ff8",
   "metadata": {},
   "outputs": [
    {
     "name": "stdout",
     "output_type": "stream",
     "text": [
      "rice hsi (292, 307, 3)\n",
      "data type of rice hsi uint8\n",
      "resized image shape (400, 400, 3)\n",
      "data type of new image uint8\n",
      "data type of new image uint8\n"
     ]
    }
   ],
   "source": [
    "cv.imshow(\"rice hsi\", prac)\n",
    "print(\"rice hsi\", prac.shape)\n",
    "print(\"data type of rice hsi\", prac.dtype)\n",
    "\n",
    "\n",
    "\n",
    "width = 400\n",
    "height = 400\n",
    "\n",
    "resized_prac = cv.resize(prac, (width, height))\n",
    "cv.imshow('new image', resized_prac)\n",
    "\n",
    "print('resized image shape', resized_prac.shape)\n",
    "print(\"data type of new image\", resized_prac.dtype)\n",
    "\n",
    "#width, hight = 400, 400\n",
    "\n",
    "print(\"data type of new image\", resized_prac.dtype)\n",
    "\n",
    "\n",
    "cv.waitKey(0)\n",
    "cv.destroyAllWindows()"
   ]
  },
  {
   "cell_type": "code",
   "execution_count": 17,
   "id": "0c845c13-c51f-4928-afda-b593ac599def",
   "metadata": {},
   "outputs": [
    {
     "data": {
      "text/plain": [
       "'C:\\\\Users\\\\USER'"
      ]
     },
     "execution_count": 17,
     "metadata": {},
     "output_type": "execute_result"
    }
   ],
   "source": [
    "pwd"
   ]
  },
  {
   "cell_type": "code",
   "execution_count": null,
   "id": "098a6703-f86a-4370-89a1-d0639869a82e",
   "metadata": {},
   "outputs": [],
   "source": []
  }
 ],
 "metadata": {
  "kernelspec": {
   "display_name": "Python 3 (ipykernel)",
   "language": "python",
   "name": "python3"
  },
  "language_info": {
   "codemirror_mode": {
    "name": "ipython",
    "version": 3
   },
   "file_extension": ".py",
   "mimetype": "text/x-python",
   "name": "python",
   "nbconvert_exporter": "python",
   "pygments_lexer": "ipython3",
   "version": "3.10.10"
  }
 },
 "nbformat": 4,
 "nbformat_minor": 5
}
